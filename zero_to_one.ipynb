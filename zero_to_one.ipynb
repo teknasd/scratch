{
 "cells": [
  {
   "cell_type": "markdown",
   "id": "78886737",
   "metadata": {},
   "source": [
    "# Zero To One\n",
    "\n",
    "## In this notebook we will go from adding two numbers to writting neural networks without using numpy"
   ]
  },
  {
   "cell_type": "code",
   "execution_count": 1,
   "id": "6826f5a5",
   "metadata": {},
   "outputs": [],
   "source": [
    "# add 2 nums \n",
    "\n",
    "def add_2_nums(x,y):\n",
    "    return x + y"
   ]
  },
  {
   "cell_type": "code",
   "execution_count": 4,
   "id": "eb35cf39",
   "metadata": {},
   "outputs": [
    {
     "name": "stdout",
     "output_type": "stream",
     "text": [
      "9\n"
     ]
    }
   ],
   "source": [
    "#  testing: add 2 nums\n",
    "\n",
    "print(add_2_nums(4,5))"
   ]
  },
  {
   "cell_type": "code",
   "execution_count": 12,
   "id": "37ab11b9",
   "metadata": {},
   "outputs": [],
   "source": [
    "#  function: multiply 2 nums\n",
    "\n",
    "def mul_2_nums(x,y):\n",
    "    res = 0\n",
    "    for i in range(abs(y)):\n",
    "        res = add_2_nums(x,res)\n",
    "    return res if y>0 else -res"
   ]
  },
  {
   "cell_type": "code",
   "execution_count": 13,
   "id": "cb76aa64",
   "metadata": {},
   "outputs": [
    {
     "name": "stdout",
     "output_type": "stream",
     "text": [
      "20 -20 -20 20\n"
     ]
    }
   ],
   "source": [
    "#  testing: multiply 2 nums\n",
    "a = 5\n",
    "b = 4\n",
    "print(mul_2_nums(a,b),mul_2_nums(a,-b),mul_2_nums(-a,b),mul_2_nums(-a,-b))"
   ]
  },
  {
   "cell_type": "code",
   "execution_count": null,
   "id": "0b38609c",
   "metadata": {},
   "outputs": [],
   "source": []
  }
 ],
 "metadata": {
  "kernelspec": {
   "display_name": "Python 3 (ipykernel)",
   "language": "python",
   "name": "python3"
  },
  "language_info": {
   "codemirror_mode": {
    "name": "ipython",
    "version": 3
   },
   "file_extension": ".py",
   "mimetype": "text/x-python",
   "name": "python",
   "nbconvert_exporter": "python",
   "pygments_lexer": "ipython3",
   "version": "3.11.5"
  }
 },
 "nbformat": 4,
 "nbformat_minor": 5
}
