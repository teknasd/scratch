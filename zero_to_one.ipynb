{
 "cells": [
  {
   "cell_type": "markdown",
   "id": "ee13a846",
   "metadata": {},
   "source": [
    "# Zero To One\n",
    "\n",
    "## In this notebook we will go from adding two numbers to writting neural networks without using numpy"
   ]
  },
  {
   "cell_type": "code",
   "execution_count": 1,
   "id": "56893dd9",
   "metadata": {},
   "outputs": [],
   "source": [
    "# add 2 nums \n",
    "\n",
    "def add_2_nums(x,y):\n",
    "    return x + y"
   ]
  },
  {
   "cell_type": "code",
   "execution_count": 4,
   "id": "ab56a29a",
   "metadata": {},
   "outputs": [
    {
     "name": "stdout",
     "output_type": "stream",
     "text": [
      "9\n"
     ]
    }
   ],
   "source": [
    "#  testing: add 2 nums\n",
    "\n",
    "print(add_2_nums(4,5))"
   ]
  },
  {
   "cell_type": "code",
   "execution_count": 12,
   "id": "b60c07c1",
   "metadata": {},
   "outputs": [],
   "source": [
    "#  function: multiply 2 nums\n",
    "\n",
    "def mul_2_nums(x,y):\n",
    "    res = 0\n",
    "    for i in range(abs(y)):\n",
    "        res = add_2_nums(x,res)\n",
    "    return res if y>0 else -res"
   ]
  },
  {
   "cell_type": "code",
   "execution_count": 13,
   "id": "34f6a0a4",
   "metadata": {},
   "outputs": [
    {
     "name": "stdout",
     "output_type": "stream",
     "text": [
      "20 -20 -20 20\n"
     ]
    }
   ],
   "source": [
    "#  testing: multiply 2 nums\n",
    "a = 5\n",
    "b = 4\n",
    "print(mul_2_nums(a,b),mul_2_nums(a,-b),mul_2_nums(-a,b),mul_2_nums(-a,-b))"
   ]
  },
  {
   "cell_type": "markdown",
   "id": "09288677",
   "metadata": {},
   "source": [
    "### we want to add all the elements in the list and get a single value "
   ]
  },
  {
   "cell_type": "code",
   "execution_count": 25,
   "id": "5314d5c8",
   "metadata": {},
   "outputs": [],
   "source": [
    "#  function: add elements in list of nums \n",
    "\n",
    "def add_ele_in_list(x: list):\n",
    "    res = 0\n",
    "    length = len(x)\n",
    "    for i in range(length):\n",
    "        res = add_2_nums(x[i],res)\n",
    "        \n",
    "    return res"
   ]
  },
  {
   "cell_type": "code",
   "execution_count": 27,
   "id": "4e4ca2ba",
   "metadata": {},
   "outputs": [
    {
     "name": "stdout",
     "output_type": "stream",
     "text": [
      "[3, 4, 5] 12\n"
     ]
    }
   ],
   "source": [
    "#  testing: add elements in list of nums \n",
    "a = [3,4,5]\n",
    "print(a,add_ele_in_list(a))"
   ]
  },
  {
   "cell_type": "markdown",
   "id": "248509bd",
   "metadata": {},
   "source": [
    "### now we want to add list of nums \n"
   ]
  },
  {
   "cell_type": "code",
   "execution_count": 23,
   "id": "6958167d",
   "metadata": {},
   "outputs": [],
   "source": [
    "#  function: add list of nums \n",
    "\n",
    "def add_list_nums(x: list, y: list):\n",
    "#     we can add list of nums only if their length is same\n",
    "    if len(x) != len(y):\n",
    "        raise Exception(\"LengthError --- Lists are not of same length ---\")\n",
    "        \n",
    "    res = []\n",
    "    length = len(x)\n",
    "    for i in range(length):\n",
    "        res.append(add_2_nums(x[i],y[i]))\n",
    "        \n",
    "    return res"
   ]
  },
  {
   "cell_type": "code",
   "execution_count": 24,
   "id": "66a667bb",
   "metadata": {},
   "outputs": [
    {
     "name": "stdout",
     "output_type": "stream",
     "text": [
      "[6, 8, 10]\n"
     ]
    },
    {
     "ename": "Exception",
     "evalue": "LengthError --- Lists are not of same length ---",
     "output_type": "error",
     "traceback": [
      "\u001b[0;31m---------------------------------------------------------------------------\u001b[0m",
      "\u001b[0;31mException\u001b[0m                                 Traceback (most recent call last)",
      "Cell \u001b[0;32mIn[24], line 4\u001b[0m\n\u001b[1;32m      1\u001b[0m \u001b[38;5;66;03m#  testing: add lists of nums\u001b[39;00m\n\u001b[1;32m      3\u001b[0m \u001b[38;5;28mprint\u001b[39m(add_list_nums([\u001b[38;5;241m1\u001b[39m,\u001b[38;5;241m2\u001b[39m,\u001b[38;5;241m3\u001b[39m],[\u001b[38;5;241m5\u001b[39m,\u001b[38;5;241m6\u001b[39m,\u001b[38;5;241m7\u001b[39m]))\n\u001b[0;32m----> 4\u001b[0m \u001b[38;5;28mprint\u001b[39m(add_list_nums([\u001b[38;5;241m1\u001b[39m,\u001b[38;5;241m2\u001b[39m,\u001b[38;5;241m3\u001b[39m],[\u001b[38;5;241m5\u001b[39m,\u001b[38;5;241m6\u001b[39m]))\n",
      "Cell \u001b[0;32mIn[23], line 6\u001b[0m, in \u001b[0;36madd_list_nums\u001b[0;34m(x, y)\u001b[0m\n\u001b[1;32m      3\u001b[0m \u001b[38;5;28;01mdef\u001b[39;00m \u001b[38;5;21madd_list_nums\u001b[39m(x: \u001b[38;5;28mlist\u001b[39m, y: \u001b[38;5;28mlist\u001b[39m):\n\u001b[1;32m      4\u001b[0m \u001b[38;5;66;03m#     we can add list of nums only if their length is same\u001b[39;00m\n\u001b[1;32m      5\u001b[0m     \u001b[38;5;28;01mif\u001b[39;00m \u001b[38;5;28mlen\u001b[39m(x) \u001b[38;5;241m!=\u001b[39m \u001b[38;5;28mlen\u001b[39m(y):\n\u001b[0;32m----> 6\u001b[0m         \u001b[38;5;28;01mraise\u001b[39;00m \u001b[38;5;167;01mException\u001b[39;00m(\u001b[38;5;124m\"\u001b[39m\u001b[38;5;124mLengthError --- Lists are not of same length ---\u001b[39m\u001b[38;5;124m\"\u001b[39m)\n\u001b[1;32m      8\u001b[0m     res \u001b[38;5;241m=\u001b[39m []\n\u001b[1;32m      9\u001b[0m     length \u001b[38;5;241m=\u001b[39m \u001b[38;5;28mlen\u001b[39m(x)\n",
      "\u001b[0;31mException\u001b[0m: LengthError --- Lists are not of same length ---"
     ]
    }
   ],
   "source": [
    "#  testing: add lists of nums\n",
    "\n",
    "print(add_list_nums([1,2,3],[5,6,7]))\n",
    "print(add_list_nums([1,2,3],[5,6]))"
   ]
  },
  {
   "cell_type": "markdown",
   "id": "93637aa9",
   "metadata": {},
   "source": [
    "### now lets do list multiplications"
   ]
  },
  {
   "cell_type": "code",
   "execution_count": 34,
   "id": "048da306",
   "metadata": {},
   "outputs": [],
   "source": [
    "#  function: match the length of lists\n",
    "\n",
    "def same_len_validation(x: list, y: list):\n",
    "    if len(x) != len(y):\n",
    "        raise Exception(\"LengthError --- Lists are not of same length ---\")\n",
    "    return True"
   ]
  },
  {
   "cell_type": "code",
   "execution_count": 39,
   "id": "a36f586a",
   "metadata": {},
   "outputs": [
    {
     "name": "stdout",
     "output_type": "stream",
     "text": [
      "case: 1, same_len_validation [3, 4] and [5, 6]: True\n"
     ]
    },
    {
     "ename": "Exception",
     "evalue": "LengthError --- Lists are not of same length ---",
     "output_type": "error",
     "traceback": [
      "\u001b[0;31m---------------------------------------------------------------------------\u001b[0m",
      "\u001b[0;31mException\u001b[0m                                 Traceback (most recent call last)",
      "Cell \u001b[0;32mIn[39], line 6\u001b[0m\n\u001b[1;32m      3\u001b[0m \u001b[38;5;28mprint\u001b[39m(\u001b[38;5;124mf\u001b[39m\u001b[38;5;124m\"\u001b[39m\u001b[38;5;124mcase: 1, same_len_validation \u001b[39m\u001b[38;5;132;01m{\u001b[39;00ma\u001b[38;5;132;01m}\u001b[39;00m\u001b[38;5;124m and \u001b[39m\u001b[38;5;132;01m{\u001b[39;00mb\u001b[38;5;132;01m}\u001b[39;00m\u001b[38;5;124m: \u001b[39m\u001b[38;5;132;01m{\u001b[39;00msame_len_validation(a,b)\u001b[38;5;132;01m}\u001b[39;00m\u001b[38;5;124m\"\u001b[39m)\n\u001b[1;32m      5\u001b[0m a,b \u001b[38;5;241m=\u001b[39m [\u001b[38;5;241m3\u001b[39m,\u001b[38;5;241m4\u001b[39m],[\u001b[38;5;241m5\u001b[39m]\n\u001b[0;32m----> 6\u001b[0m \u001b[38;5;28mprint\u001b[39m(\u001b[38;5;124mf\u001b[39m\u001b[38;5;124m\"\u001b[39m\u001b[38;5;124mcase 2, same_len_validation \u001b[39m\u001b[38;5;132;01m{\u001b[39;00ma\u001b[38;5;132;01m}\u001b[39;00m\u001b[38;5;124m and \u001b[39m\u001b[38;5;132;01m{\u001b[39;00mb\u001b[38;5;132;01m}\u001b[39;00m\u001b[38;5;124m: \u001b[39m\u001b[38;5;132;01m{\u001b[39;00msame_len_validation(a,b)\u001b[38;5;132;01m}\u001b[39;00m\u001b[38;5;124m\"\u001b[39m)\n",
      "Cell \u001b[0;32mIn[34], line 5\u001b[0m, in \u001b[0;36msame_len_validation\u001b[0;34m(x, y)\u001b[0m\n\u001b[1;32m      3\u001b[0m \u001b[38;5;28;01mdef\u001b[39;00m \u001b[38;5;21msame_len_validation\u001b[39m(x: \u001b[38;5;28mlist\u001b[39m, y: \u001b[38;5;28mlist\u001b[39m):\n\u001b[1;32m      4\u001b[0m     \u001b[38;5;28;01mif\u001b[39;00m \u001b[38;5;28mlen\u001b[39m(x) \u001b[38;5;241m!=\u001b[39m \u001b[38;5;28mlen\u001b[39m(y):\n\u001b[0;32m----> 5\u001b[0m         \u001b[38;5;28;01mraise\u001b[39;00m \u001b[38;5;167;01mException\u001b[39;00m(\u001b[38;5;124m\"\u001b[39m\u001b[38;5;124mLengthError --- Lists are not of same length ---\u001b[39m\u001b[38;5;124m\"\u001b[39m)\n\u001b[1;32m      6\u001b[0m     \u001b[38;5;28;01mreturn\u001b[39;00m \u001b[38;5;28;01mTrue\u001b[39;00m\n",
      "\u001b[0;31mException\u001b[0m: LengthError --- Lists are not of same length ---"
     ]
    }
   ],
   "source": [
    "#  testing: match the length of lists\n",
    "a,b = [3,4],[5,6]\n",
    "print(f\"case: 1, same_len_validation {a} and {b}: {same_len_validation(a,b)}\")\n",
    "\n",
    "a,b = [3,4],[5]\n",
    "print(f\"case 2, same_len_validation {a} and {b}: {same_len_validation(a,b)}\")"
   ]
  },
  {
   "cell_type": "markdown",
   "id": "167650f1",
   "metadata": {},
   "source": [
    "### dot product"
   ]
  },
  {
   "cell_type": "code",
   "execution_count": 40,
   "id": "3d3e7302",
   "metadata": {},
   "outputs": [],
   "source": [
    "#  function: dot product of lists\n",
    "\n",
    "def dot_prod(x: list, y: list):\n",
    "    # only possible if length is same\n",
    "    \n",
    "    same_len_validation(x,y)\n",
    "    \n",
    "    res = 0\n",
    "    for x_i,y_i in zip(x,y):\n",
    "        prod_i = mul_2_nums(x_i,y_i)\n",
    "        res = add_2_nums(res,prod_i)\n",
    "    return res\n",
    "\n",
    "\n",
    "    "
   ]
  },
  {
   "cell_type": "code",
   "execution_count": 42,
   "id": "87523181",
   "metadata": {},
   "outputs": [
    {
     "name": "stdout",
     "output_type": "stream",
     "text": [
      "32\n",
      "15\n"
     ]
    }
   ],
   "source": [
    "#  testing: dot product of lists\n",
    "\n",
    "print(dot_prod([3,4],[4,5]))\n",
    "print(dot_prod([1,1,1,1,1],[1,2,3,4,5]))"
   ]
  },
  {
   "cell_type": "markdown",
   "id": "246617cf",
   "metadata": {},
   "source": [
    "### cross product "
   ]
  },
  {
   "cell_type": "code",
   "execution_count": 48,
   "id": "2d5e768d",
   "metadata": {},
   "outputs": [
    {
     "name": "stdout",
     "output_type": "stream",
     "text": [
      "[[3], [4], [5]]\n",
      "[5, 6, 7]\n",
      "True\n"
     ]
    }
   ],
   "source": [
    "#  lets write a func to convert row list (vector) to col list and vice-a-versa\n",
    "\n",
    "def row_to_col(x: list):\n",
    "    # only works on 1 D list rn\n",
    "    res = []\n",
    "    for x_i in x:\n",
    "        res.append([x_i])\n",
    "        \n",
    "    return res\n",
    "\n",
    "def col_to_row(x: list):\n",
    "    # only works on 1 D list rn\n",
    "    res = []\n",
    "    for x_i in x:\n",
    "        res.append(x_i[0])\n",
    "    return res\n",
    "        \n",
    "#  testing: convertors \n",
    "\n",
    "print(row_to_col([3,4,5]))\n",
    "print(col_to_row([ [5], [6], [7] ] ))\n",
    "\n",
    "print([1,2,4] == col_to_row(row_to_col([1,2,4])))"
   ]
  },
  {
   "cell_type": "code",
   "execution_count": 51,
   "id": "ef206508",
   "metadata": {},
   "outputs": [
    {
     "name": "stdout",
     "output_type": "stream",
     "text": [
      "74\n"
     ]
    }
   ],
   "source": [
    "#  function: corss product of 1D lists\n",
    "\n",
    "def cross_prod_1D(x: list, y: list):\n",
    "    \n",
    "    # dim of x: 1,n\n",
    "    # dim of y: n,1\n",
    "    # multiplying a 1×n by a n×1 gets a 1×1 result\n",
    "    \n",
    "    same_len_validation(x, col_to_row(y))\n",
    "    res = dot_prod(x, col_to_row(y))\n",
    "    return res\n",
    "\n",
    "# testing: cross product \n",
    "a = [3,4,5]\n",
    "b = [ [5], [6], [7] ]\n",
    "print(cross_prod_1D(a,b))\n",
    "    "
   ]
  },
  {
   "cell_type": "code",
   "execution_count": 59,
   "id": "c848eb75",
   "metadata": {},
   "outputs": [
    {
     "name": "stdout",
     "output_type": "stream",
     "text": [
      "[[58, 64], [139, 154]]\n"
     ]
    }
   ],
   "source": [
    "#  lets extrapolate to 2D\n",
    "#  function: corss product of 2D lists\n",
    "def cross_prod_2D(x: list, y: list):\n",
    "    # dim of x: n,p\n",
    "    # dim of y: p,m\n",
    "    # multiplying a nxp by a pxm gets a nxm result\n",
    "    \n",
    "    # check lengths cols in x and rows in y\n",
    "    same_len_validation(x[0],y)\n",
    "    \n",
    "    res = []\n",
    "    for row_i in range(len(x)): # rows\n",
    "        res_row = []\n",
    "        for col_i in range(len(y[0])):\n",
    "            #print(row_i,col_i)\n",
    "            res_row.append(dot_prod(x[row_i],[row_y[col_i] for row_y in y ]))\n",
    "            #print(res_row)\n",
    "        res.append(res_row)\n",
    "        \n",
    "    return res\n",
    "\n",
    "#  testing: corss product of 1D lists\n",
    "a = [ [1,2,3] , [4,5,6] ]\n",
    "b = [ [7,8], [9,10], [11,12]]\n",
    "\n",
    "print(cross_prod_2D(a,b))\n",
    "            \n",
    "    "
   ]
  },
  {
   "cell_type": "code",
   "execution_count": null,
   "id": "0cb16f13",
   "metadata": {},
   "outputs": [],
   "source": []
  }
 ],
 "metadata": {
  "kernelspec": {
   "display_name": "Python 3 (ipykernel)",
   "language": "python",
   "name": "python3"
  },
  "language_info": {
   "codemirror_mode": {
    "name": "ipython",
    "version": 3
   },
   "file_extension": ".py",
   "mimetype": "text/x-python",
   "name": "python",
   "nbconvert_exporter": "python",
   "pygments_lexer": "ipython3",
   "version": "3.11.5"
  }
 },
 "nbformat": 4,
 "nbformat_minor": 5
}
